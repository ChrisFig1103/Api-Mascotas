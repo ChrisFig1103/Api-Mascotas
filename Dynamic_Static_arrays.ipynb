{
  "nbformat": 4,
  "nbformat_minor": 0,
  "metadata": {
    "colab": {
      "name": "Dynamic/Static arrays.ipynb",
      "provenance": [],
      "authorship_tag": "ABX9TyNt6VrGnEnrgk4Ol8+ppfGA"
    },
    "kernelspec": {
      "name": "python3",
      "display_name": "Python 3"
    },
    "language_info": {
      "name": "python"
    }
  },
  "cells": [
    {
      "cell_type": "code",
      "execution_count": 1,
      "metadata": {
        "id": "7BgyA_R2thQX"
      },
      "outputs": [],
      "source": [
        "class static_array:\n",
        "  array ={\n",
        "        0:0,\n",
        "        1:10,\n",
        "        2:20,\n",
        "        3:30,\n",
        "        4:40,\n",
        "        5:50,\n",
        "        6:60,\n",
        "        7:70,\n",
        "        8:80\n",
        "  }\n",
        "  \n",
        "  def access(self,index):\n",
        "    if index not in self.array:\n",
        "      return -1\n",
        "    return self.array[index]\n",
        "\n",
        "  def search(self,value):\n",
        "    for item in self.array:\n",
        "      if self.array[item] == value:\n",
        "        return True\n",
        "    return False \n",
        "\n",
        "\n",
        "class dynamic_array:\n",
        "  array ={}\n",
        "   \n",
        "  def access(self,index):\n",
        "    if index not in self.array:\n",
        "      return -1\n",
        "    return self.array[index]\n",
        "\n",
        "  def search(self,value):\n",
        "    for item in self.array:\n",
        "      if self.array[item] == value:\n",
        "        return True\n",
        "    return False \n",
        "\n",
        "  def insertion(self,value):\n",
        "    arr = []\n",
        "    #head\n",
        "    for item in self.array:\n",
        "      arr.append(self.array[item])\n",
        "    for i in range(len(arr)):\n",
        "      self.array[i+1] = arr[i]\n",
        "    self.array[0] = value\n",
        "\n",
        "    return self.array\n",
        "\n",
        "  def appending(self,value):\n",
        "    self.array[len(self.array)] = value\n",
        "    return self.array\n",
        "\n",
        "  def deletion(self,value):\n",
        "    arr = []\n",
        "    for item in self.array:\n",
        "      if self.array[item]!= value:\n",
        "        arr.append(self.array[item])\n",
        "    for i in range(len(arr)):\n",
        "      self.array[i] = arr[i]\n",
        "    del self.array[len(self.array)-1]\n",
        "    return self.array"
      ]
    },
    {
      "cell_type": "code",
      "source": [
        " \n",
        "\n",
        "s_a = static_array()\n",
        "print(s_a.access(0))\n",
        "print(s_a.access(3))\n",
        "print(s_a.access(8))\n",
        "\n",
        "print(s_a.search(60))\n",
        "print(s_a.search(10))\n",
        "print(s_a.search(70))\n",
        "print(s_a.search(100))\n",
        "\n",
        "\n",
        " \n",
        "\n",
        "d_a = dynamic_array()\n",
        "print(d_a.insertion(10))\n",
        "print(d_a.insertion(0))\n",
        "print(d_a.appending(20))\n",
        "print(d_a.appending(30))\n",
        "print(d_a.appending(40))\n",
        "print(d_a.appending(50))\n",
        "print(d_a.appending(90))\n",
        "print(d_a.appending(60))\n",
        "print(d_a.access(0))\n",
        "print(d_a.access(2))\n",
        "print(d_a.search(20))\n",
        "print(d_a.search(80))\n",
        "print(d_a.deletion(90))\n",
        "\n",
        "\n",
        "\n"
      ],
      "metadata": {
        "colab": {
          "base_uri": "https://localhost:8080/"
        },
        "id": "8aU9WJIkygkC",
        "outputId": "8141b0cc-43ff-4263-b958-301799306dca"
      },
      "execution_count": 2,
      "outputs": [
        {
          "output_type": "stream",
          "name": "stdout",
          "text": [
            "0\n",
            "30\n",
            "80\n",
            "True\n",
            "True\n",
            "True\n",
            "False\n",
            "{0: 10}\n",
            "{0: 0, 1: 10}\n",
            "{0: 0, 1: 10, 2: 20}\n",
            "{0: 0, 1: 10, 2: 20, 3: 30}\n",
            "{0: 0, 1: 10, 2: 20, 3: 30, 4: 40}\n",
            "{0: 0, 1: 10, 2: 20, 3: 30, 4: 40, 5: 50}\n",
            "{0: 0, 1: 10, 2: 20, 3: 30, 4: 40, 5: 50, 6: 90}\n",
            "{0: 0, 1: 10, 2: 20, 3: 30, 4: 40, 5: 50, 6: 90, 7: 60}\n",
            "0\n",
            "20\n",
            "True\n",
            "False\n",
            "{0: 0, 1: 10, 2: 20, 3: 30, 4: 40, 5: 50, 6: 60}\n"
          ]
        }
      ]
    }
  ]
}